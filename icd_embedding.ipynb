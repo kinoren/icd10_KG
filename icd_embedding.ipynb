{
  "nbformat": 4,
  "nbformat_minor": 0,
  "metadata": {
    "colab": {
      "name": "icd_embedding.ipynb",
      "provenance": [],
      "collapsed_sections": []
    },
    "kernelspec": {
      "name": "python3",
      "display_name": "Python 3"
    },
    "accelerator": "GPU"
  },
  "cells": [
    {
      "cell_type": "code",
      "metadata": {
        "id": "00R50Ace8gP8",
        "colab_type": "code",
        "colab": {
          "base_uri": "https://localhost:8080/",
          "height": 125
        },
        "outputId": "c1f4291d-32f8-4af6-8503-6028bc19b301"
      },
      "source": [
        "from google.colab import drive\n",
        "drive.mount('/content/drive',force_remount=True)"
      ],
      "execution_count": 2,
      "outputs": [
        {
          "output_type": "stream",
          "text": [
            "Go to this URL in a browser: https://accounts.google.com/o/oauth2/auth?client_id=947318989803-6bn6qk8qdgf4n4g3pfee6491hc0brc4i.apps.googleusercontent.com&redirect_uri=urn%3aietf%3awg%3aoauth%3a2.0%3aoob&scope=email%20https%3a%2f%2fwww.googleapis.com%2fauth%2fdocs.test%20https%3a%2f%2fwww.googleapis.com%2fauth%2fdrive%20https%3a%2f%2fwww.googleapis.com%2fauth%2fdrive.photos.readonly%20https%3a%2f%2fwww.googleapis.com%2fauth%2fpeopleapi.readonly&response_type=code\n",
            "\n",
            "Enter your authorization code:\n",
            "··········\n",
            "Mounted at /content/drive\n"
          ],
          "name": "stdout"
        }
      ]
    },
    {
      "cell_type": "code",
      "metadata": {
        "id": "M2es7rns-IiC",
        "colab_type": "code",
        "colab": {
          "base_uri": "https://localhost:8080/",
          "height": 34
        },
        "outputId": "34abc609-8f0d-450d-b7e7-655619e812c7"
      },
      "source": [
        "%cd drive/'My Drive'/thunlp"
      ],
      "execution_count": 3,
      "outputs": [
        {
          "output_type": "stream",
          "text": [
            "/content/drive/My Drive/thunlp\n"
          ],
          "name": "stdout"
        }
      ]
    },
    {
      "cell_type": "code",
      "metadata": {
        "id": "_PxNcHmE8oj7",
        "colab_type": "code",
        "colab": {}
      },
      "source": [
        "#!git clone -b OpenKE-PyTorch https://github.com/thunlp/OpenKE"
      ],
      "execution_count": 4,
      "outputs": []
    },
    {
      "cell_type": "code",
      "metadata": {
        "id": "2COi-fFF9Dhp",
        "colab_type": "code",
        "colab": {
          "base_uri": "https://localhost:8080/",
          "height": 34
        },
        "outputId": "8213918d-a7d5-4a90-a54f-8cf4d8dc988d"
      },
      "source": [
        "%cd OpenKE/openke"
      ],
      "execution_count": 5,
      "outputs": [
        {
          "output_type": "stream",
          "text": [
            "/content/drive/My Drive/thunlp/OpenKE/openke\n"
          ],
          "name": "stdout"
        }
      ]
    },
    {
      "cell_type": "code",
      "metadata": {
        "id": "j_1i-nPo9KlS",
        "colab_type": "code",
        "colab": {
          "base_uri": "https://localhost:8080/",
          "height": 34
        },
        "outputId": "9849d393-dc84-44ec-ce1b-78d9b31525d9"
      },
      "source": [
        "!ls"
      ],
      "execution_count": 6,
      "outputs": [
        {
          "output_type": "stream",
          "text": [
            "base  config  data  __init__.py  make.sh  module  __pycache__  release\n"
          ],
          "name": "stdout"
        }
      ]
    },
    {
      "cell_type": "code",
      "metadata": {
        "id": "GfDQHw-J9Oyi",
        "colab_type": "code",
        "colab": {}
      },
      "source": [
        "#!bash make.sh"
      ],
      "execution_count": 7,
      "outputs": []
    },
    {
      "cell_type": "code",
      "metadata": {
        "id": "XsL_TPPN9WCJ",
        "colab_type": "code",
        "colab": {
          "base_uri": "https://localhost:8080/",
          "height": 34
        },
        "outputId": "03ac17cb-9dac-4b1e-8fe8-1136e951fbee"
      },
      "source": [
        "%cd ../"
      ],
      "execution_count": 8,
      "outputs": [
        {
          "output_type": "stream",
          "text": [
            "/content/drive/My Drive/thunlp/OpenKE\n"
          ],
          "name": "stdout"
        }
      ]
    },
    {
      "cell_type": "code",
      "metadata": {
        "id": "doWjIjo49dag",
        "colab_type": "code",
        "colab": {}
      },
      "source": [
        "#!cp icd10_KG/test_icd10.py ./"
      ],
      "execution_count": 8,
      "outputs": []
    },
    {
      "cell_type": "code",
      "metadata": {
        "id": "f5ixOZ9ma7B_",
        "colab_type": "code",
        "colab": {}
      },
      "source": [
        "#!cp examples/train_transe_FB15K237.py ./"
      ],
      "execution_count": 9,
      "outputs": []
    },
    {
      "cell_type": "code",
      "metadata": {
        "id": "pPwwh2ErYXqO",
        "colab_type": "code",
        "colab": {
          "base_uri": "https://localhost:8080/",
          "height": 52
        },
        "outputId": "519e4cd5-062a-4ac6-a421-9e6bfc98be3c"
      },
      "source": [
        "!ls "
      ],
      "execution_count": 10,
      "outputs": [
        {
          "output_type": "stream",
          "text": [
            "benchmarks  examples  openke\t test_icd10.py\n",
            "checkpoint  icd10_KG  README.md  train_transe_FB15K237.py\n"
          ],
          "name": "stdout"
        }
      ]
    },
    {
      "cell_type": "code",
      "metadata": {
        "id": "_ajTiB2xVV_l",
        "colab_type": "code",
        "colab": {
          "base_uri": "https://localhost:8080/",
          "height": 492
        },
        "outputId": "4e732540-7fc0-4c3d-ef26-d6f1aa8b0ee3"
      },
      "source": [
        "!python test_icd10.py"
      ],
      "execution_count": 11,
      "outputs": [
        {
          "output_type": "stream",
          "text": [
            "Input Files Path : ./icd10_KG/\n",
            "The toolkit is importing datasets.\n",
            "The total of relations is 1.\n",
            "The total of entities is 14877.\n",
            "The total of train triples is 8913.\n",
            "train_dataloader model was set.\n",
            "Input Files Path : ./icd10_KG/\n",
            "The total of test triples is 2971.\n",
            "The total of valid triples is 2971.\n",
            "test_dataloader model was set.\n",
            "transe model was set.\n",
            "negative sampling model was set.\n",
            "Finish initializing...\n",
            "Epoch 999 | loss: 0.029881: 100% 1000/1000 [05:23<00:00,  3.09it/s]\n",
            "checkpoint was saved.\n",
            "100% 2971/2971 [00:06<00:00, 434.15it/s]\n",
            "no type constraint results:\n",
            "metric:\t\t\t MRR \t\t MR \t\t hit@10 \t hit@3  \t hit@1 \n",
            "l(raw):\t\t\t 0.000291 \t 8414.119141 \t 0.000000 \t 0.000000 \t 0.000000 \n",
            "r(raw):\t\t\t 0.006038 \t 1728.562744 \t 0.012790 \t 0.002356 \t 0.000000 \n",
            "averaged(raw):\t\t 0.003164 \t 5071.340820 \t 0.006395 \t 0.001178 \t 0.000000 \n",
            "\n",
            "l(filter):\t\t 0.000315 \t 8408.012695 \t 0.000337 \t 0.000000 \t 0.000000 \n",
            "r(filter):\t\t 0.006038 \t 1728.562744 \t 0.012790 \t 0.002356 \t 0.000000 \n",
            "averaged(filter):\t 0.003176 \t 5068.287598 \t 0.006563 \t 0.001178 \t 0.000000 \n",
            "0.006563\n",
            "0.0065634469501674175\n"
          ],
          "name": "stdout"
        }
      ]
    },
    {
      "cell_type": "code",
      "metadata": {
        "id": "7gkFDHiR0YTY",
        "colab_type": "code",
        "colab": {}
      },
      "source": [
        "import openke\n",
        "from openke.config import Trainer, Tester\n",
        "from openke.module.model import TransE\n",
        "from openke.module.loss import MarginLoss\n",
        "from openke.module.strategy import NegativeSampling\n",
        "from openke.data import TrainDataLoader, TestDataLoader\n",
        "\n",
        "train_dataloader = TrainDataLoader(\n",
        "\tin_path = \"./icd10_KG/\", \n",
        "\tnbatches = 100,\n",
        "\tthreads = 8, \n",
        "\tsampling_mode = \"normal\", \n",
        "\tbern_flag = 1, \n",
        "\tfilter_flag = 1, \n",
        "\tneg_ent = 25,\n",
        "\tneg_rel = 0)\n",
        "\n",
        "transe = TransE(\n",
        "\tent_tot = train_dataloader.get_ent_tot(),\n",
        "\trel_tot = train_dataloader.get_rel_tot(),\n",
        "\tdim = 200, \n",
        "\tp_norm = 1, \n",
        "\tnorm_flag = True)\n",
        "\n",
        "transe.load_checkpoint('./checkpoint/transe_icd10.ckpt')"
      ],
      "execution_count": 14,
      "outputs": []
    },
    {
      "cell_type": "code",
      "metadata": {
        "id": "UDerYaFd1fr9",
        "colab_type": "code",
        "colab": {
          "base_uri": "https://localhost:8080/",
          "height": 34
        },
        "outputId": "5d576211-615c-4661-965c-9e86fa0d2eee"
      },
      "source": [
        "ent_emb = transe.ent_embeddings\n",
        "transe.ent_embeddings"
      ],
      "execution_count": 17,
      "outputs": [
        {
          "output_type": "execute_result",
          "data": {
            "text/plain": [
              "Embedding(14877, 200)"
            ]
          },
          "metadata": {
            "tags": []
          },
          "execution_count": 17
        }
      ]
    },
    {
      "cell_type": "code",
      "metadata": {
        "id": "K6JiHJA-1jrc",
        "colab_type": "code",
        "colab": {
          "base_uri": "https://localhost:8080/",
          "height": 34
        },
        "outputId": "fb4ca832-fe58-46ba-a4db-b72132152274"
      },
      "source": [
        "rel_emb = transe.rel_embeddings\n",
        "transe.rel_embeddings"
      ],
      "execution_count": 18,
      "outputs": [
        {
          "output_type": "execute_result",
          "data": {
            "text/plain": [
              "Embedding(1, 200)"
            ]
          },
          "metadata": {
            "tags": []
          },
          "execution_count": 18
        }
      ]
    },
    {
      "cell_type": "code",
      "metadata": {
        "id": "-W7MjEXS1m3k",
        "colab_type": "code",
        "colab": {
          "base_uri": "https://localhost:8080/",
          "height": 52
        },
        "outputId": "3c6994fb-a96e-4de0-fcb3-cfd6ba2af8e7"
      },
      "source": [
        "import torch\n",
        "\n",
        "print(ent_emb.weight.shape)\n",
        "print(rel_emb.weight.shape)"
      ],
      "execution_count": 42,
      "outputs": [
        {
          "output_type": "stream",
          "text": [
            "torch.Size([14877, 200])\n",
            "torch.Size([1, 200])\n"
          ],
          "name": "stdout"
        }
      ]
    },
    {
      "cell_type": "code",
      "metadata": {
        "id": "Y1ST-TgM41Lc",
        "colab_type": "code",
        "colab": {
          "base_uri": "https://localhost:8080/",
          "height": 474
        },
        "outputId": "027c6f63-debe-4fc1-fa81-30ce4c1bc545"
      },
      "source": [
        "ent_emb.weight[0] + rel_emb.weight[0]"
      ],
      "execution_count": 45,
      "outputs": [
        {
          "output_type": "execute_result",
          "data": {
            "text/plain": [
              "tensor([-0.3172,  0.1350,  0.2458,  0.3384, -0.1701, -0.3131, -0.1919, -0.2593,\n",
              "         0.1887,  0.4025,  0.2664,  0.2465, -0.4071,  0.2568, -0.2228, -0.1815,\n",
              "         0.2189, -0.2863, -0.3790,  0.2013, -0.3535, -0.3592, -0.2467,  0.1464,\n",
              "         0.1939, -0.1188, -0.3111, -0.2571, -0.3465,  0.1923, -0.2718, -0.2231,\n",
              "        -0.1967, -0.2285, -0.3242, -0.2483, -0.2136, -2.4457, -0.2902, -0.0767,\n",
              "         0.2236,  0.2266,  0.3390,  0.3262,  0.2847, -0.2722,  0.0810, -0.3517,\n",
              "         0.3541, -0.2559,  0.2461,  0.2555,  0.3195,  0.3017, -0.2562, -0.2014,\n",
              "        -0.3192,  0.3373, -0.0990, -0.2008, -0.2041,  0.2402,  0.1056, -0.1580,\n",
              "        -0.2609,  0.2233,  0.2894,  0.3433, -0.2310,  0.3485,  0.2291, -0.2160,\n",
              "        -0.2903,  0.3002,  0.2541,  0.3608, -0.4003, -0.3178, -0.3608,  0.1972,\n",
              "        -0.2952,  0.3416,  0.1408,  0.1654,  0.2636, -0.2495,  0.1921,  0.3405,\n",
              "         0.3183,  0.3361,  0.0913,  0.2335, -0.2763, -0.3229,  0.3080,  0.1751,\n",
              "         0.3621, -0.2363,  0.2378,  0.1957, -0.3623,  0.2202,  0.2380,  0.1841,\n",
              "        -0.3062, -0.2714,  0.2474, -0.1017,  0.2235, -0.0900,  0.2367, -0.3544,\n",
              "         1.9411,  0.2791, -0.4314, -0.1785,  0.2719,  0.2434,  0.2737, -0.1999,\n",
              "         0.1929, -0.3125,  0.2495, -0.2118,  0.3775, -0.2510, -0.3482,  0.1205,\n",
              "        -0.2445,  0.2432, -0.2241, -0.2548,  0.2850, -0.3120, -0.2449, -0.2177,\n",
              "         0.1668,  0.2374,  0.3035, -0.3305,  0.1868,  0.3947, -0.1879, -0.3064,\n",
              "         0.3428,  0.2415,  0.3329, -0.2489, -0.3357, -0.3329, -0.3317, -0.2008,\n",
              "         0.1070,  0.2311, -0.1210, -0.1983,  0.1165, -0.0520,  0.3382,  0.2829,\n",
              "         0.2276,  0.2336, -0.2455,  0.3232, -0.2457, -0.3546,  0.3767, -0.3184,\n",
              "        -0.2303,  0.3263,  0.2135,  0.2770, -0.2385, -0.0780, -0.2475, -0.3043,\n",
              "         0.2377, -0.1458, -0.4737,  0.2284,  0.1786,  0.2605, -0.3024,  0.1540,\n",
              "        -0.1367,  0.2965, -0.2347, -0.2242, -0.3563,  0.3991,  0.1802,  0.2966,\n",
              "        -0.2397,  0.1553,  0.3078,  0.3324,  0.3143,  0.3110,  0.2213,  0.2139],\n",
              "       grad_fn=<AddBackward0>)"
            ]
          },
          "metadata": {
            "tags": []
          },
          "execution_count": 45
        }
      ]
    },
    {
      "cell_type": "code",
      "metadata": {
        "id": "e-niVfgY3o-9",
        "colab_type": "code",
        "colab": {
          "base_uri": "https://localhost:8080/",
          "height": 246
        },
        "outputId": "837d6a8a-f463-44d7-c794-3aa5520014c6"
      },
      "source": [
        "ent_emb(input)[0].detach().numpy()[0:50]"
      ],
      "execution_count": 26,
      "outputs": [
        {
          "output_type": "execute_result",
          "data": {
            "text/plain": [
              "array([[-0.07127835, -0.01389506,  0.01942534, ...,  0.05236193,\n",
              "         0.01808841,  0.06671065],\n",
              "       [-0.07127835, -0.01389506,  0.01942534, ...,  0.05236193,\n",
              "         0.01808841,  0.06671065],\n",
              "       [-0.07127835, -0.01389506,  0.01942534, ...,  0.05236193,\n",
              "         0.01808841,  0.06671065],\n",
              "       ...,\n",
              "       [-0.07127835, -0.01389506,  0.01942534, ...,  0.05236193,\n",
              "         0.01808841,  0.06671065],\n",
              "       [-0.07127835, -0.01389506,  0.01942534, ...,  0.05236193,\n",
              "         0.01808841,  0.06671065],\n",
              "       [-0.07127835, -0.01389506,  0.01942534, ...,  0.05236193,\n",
              "         0.01808841,  0.06671065]], dtype=float32)"
            ]
          },
          "metadata": {
            "tags": []
          },
          "execution_count": 26
        }
      ]
    },
    {
      "cell_type": "code",
      "metadata": {
        "id": "Z6SUZ5Os9h8h",
        "colab_type": "code",
        "colab": {
          "base_uri": "https://localhost:8080/",
          "height": 404
        },
        "outputId": "e5cc7e6d-59c4-48e2-f7cc-e021fd86028b"
      },
      "source": [
        "!python train_transe_FB15K237.py"
      ],
      "execution_count": 9,
      "outputs": [
        {
          "output_type": "stream",
          "text": [
            "Input Files Path : ./benchmarks/FB15K237/\n",
            "The toolkit is importing datasets.\n",
            "The total of relations is 237.\n",
            "The total of entities is 14541.\n",
            "The total of train triples is 272115.\n",
            "Input Files Path : ./benchmarks/FB15K237/\n",
            "The total of test triples is 20466.\n",
            "The total of valid triples is 17535.\n",
            "Finish initializing...\n",
            "Epoch 43 | loss: 4.071869:   4% 44/1000 [01:58<42:53,  2.69s/it]Traceback (most recent call last):\n",
            "  File \"train_transe_FB15K237.py\", line 40, in <module>\n",
            "    trainer.run()\n",
            "  File \"/content/drive/My Drive/thunlp/OpenKE/openke/config/Trainer.py\", line 93, in run\n",
            "    loss = self.train_one_step(data)\n",
            "  File \"/content/drive/My Drive/thunlp/OpenKE/openke/config/Trainer.py\", line 52, in train_one_step\n",
            "    loss.backward()\n",
            "  File \"/usr/local/lib/python3.6/dist-packages/torch/tensor.py\", line 185, in backward\n",
            "    torch.autograd.backward(self, gradient, retain_graph, create_graph)\n",
            "  File \"/usr/local/lib/python3.6/dist-packages/torch/autograd/__init__.py\", line 127, in backward\n",
            "    allow_unreachable=True)  # allow_unreachable flag\n",
            "KeyboardInterrupt\n",
            "Epoch 43 | loss: 4.071869:   4% 44/1000 [02:01<43:56,  2.76s/it]\n"
          ],
          "name": "stdout"
        }
      ]
    },
    {
      "cell_type": "code",
      "metadata": {
        "id": "YisrbTRi9lzR",
        "colab_type": "code",
        "colab": {
          "base_uri": "https://localhost:8080/",
          "height": 382
        },
        "outputId": "bec003d9-fc7c-471b-f9fe-cbf60dde40a2"
      },
      "source": [
        "# import openke\n",
        "# from openke.config import Trainer, Tester\n",
        "# from openke.module.model import TransE\n",
        "# from openke.module.loss import MarginLoss\n",
        "# from openke.module.strategy import NegativeSampling\n",
        "# from openke.data import TrainDataaLoader, TestDataLoader\n",
        "\n",
        "# # dataloader for training\n",
        "# train_dataloader = TrainDataLoader(\n",
        "# \tin_path = \"./icd10_KG/\", \n",
        "# \tnbatches = 100,\n",
        "# \tthreads = 8, \n",
        "# \tsampling_mode = \"normal\", \n",
        "# \tbern_flag = 1, \n",
        "# \tfilter_flag = 1, \n",
        "# \tneg_ent = 25,\n",
        "# \tneg_rel = 0)\n",
        "\n",
        "# # dataloader for test\n",
        "# #test_dataloader = TestDataLoader(\"./benchmarks/FB15K237/\", \"link\")\n",
        "\n",
        "# # define the model\n",
        "# transe = TransE(\n",
        "# \tent_tot = train_dataloader.get_ent_tot(),\n",
        "# \trel_tot = train_dataloader.get_rel_tot(),\n",
        "# \tdim = 200, \n",
        "# \tp_norm = 1, \n",
        "# \tnorm_flag = True)\n",
        "\n",
        "\n",
        "# # define the loss function\n",
        "# model = NegativeSampling(\n",
        "# \tmodel = transe, \n",
        "# \tloss = MarginLoss(margin = 5.0),\n",
        "# \tbatch_size = train_dataloader.get_batch_size()\n",
        "# )\n",
        "\n",
        "# # train the model\n",
        "# trainer = Trainer(model = model, data_loader = train_dataloader, train_times = 1000, alpha = 1.0, use_gpu = True)\n",
        "# trainer.run()\n",
        "# transe.save_checkpoint('./checkpoint/transe.ckpt')\n",
        "\n",
        "# # test the model\n",
        "# transe.load_checkpoint('./checkpoint/transe.ckpt')\n",
        "# #tester = Tester(model = transe, data_loader = test_dataloader, use_gpu = True)\n",
        "# #tester.run_link_prediction(type_constrain = False)"
      ],
      "execution_count": 5,
      "outputs": [
        {
          "output_type": "error",
          "ename": "ModuleNotFoundError",
          "evalue": "ignored",
          "traceback": [
            "\u001b[0;31m---------------------------------------------------------------------------\u001b[0m",
            "\u001b[0;31mModuleNotFoundError\u001b[0m                       Traceback (most recent call last)",
            "\u001b[0;32m<ipython-input-5-04eb09028bc1>\u001b[0m in \u001b[0;36m<module>\u001b[0;34m()\u001b[0m\n\u001b[0;32m----> 1\u001b[0;31m \u001b[0;32mimport\u001b[0m \u001b[0mopenke\u001b[0m\u001b[0;34m\u001b[0m\u001b[0;34m\u001b[0m\u001b[0m\n\u001b[0m\u001b[1;32m      2\u001b[0m \u001b[0;32mfrom\u001b[0m \u001b[0mopenke\u001b[0m\u001b[0;34m.\u001b[0m\u001b[0mconfig\u001b[0m \u001b[0;32mimport\u001b[0m \u001b[0mTrainer\u001b[0m\u001b[0;34m,\u001b[0m \u001b[0mTester\u001b[0m\u001b[0;34m\u001b[0m\u001b[0;34m\u001b[0m\u001b[0m\n\u001b[1;32m      3\u001b[0m \u001b[0;32mfrom\u001b[0m \u001b[0mopenke\u001b[0m\u001b[0;34m.\u001b[0m\u001b[0mmodule\u001b[0m\u001b[0;34m.\u001b[0m\u001b[0mmodel\u001b[0m \u001b[0;32mimport\u001b[0m \u001b[0mTransE\u001b[0m\u001b[0;34m\u001b[0m\u001b[0;34m\u001b[0m\u001b[0m\n\u001b[1;32m      4\u001b[0m \u001b[0;32mfrom\u001b[0m \u001b[0mopenke\u001b[0m\u001b[0;34m.\u001b[0m\u001b[0mmodule\u001b[0m\u001b[0;34m.\u001b[0m\u001b[0mloss\u001b[0m \u001b[0;32mimport\u001b[0m \u001b[0mMarginLoss\u001b[0m\u001b[0;34m\u001b[0m\u001b[0;34m\u001b[0m\u001b[0m\n\u001b[1;32m      5\u001b[0m \u001b[0;32mfrom\u001b[0m \u001b[0mopenke\u001b[0m\u001b[0;34m.\u001b[0m\u001b[0mmodule\u001b[0m\u001b[0;34m.\u001b[0m\u001b[0mstrategy\u001b[0m \u001b[0;32mimport\u001b[0m \u001b[0mNegativeSampling\u001b[0m\u001b[0;34m\u001b[0m\u001b[0;34m\u001b[0m\u001b[0m\n",
            "\u001b[0;31mModuleNotFoundError\u001b[0m: No module named 'openke'",
            "",
            "\u001b[0;31m---------------------------------------------------------------------------\u001b[0;32m\nNOTE: If your import is failing due to a missing package, you can\nmanually install dependencies using either !pip or !apt.\n\nTo view examples of installing some common dependencies, click the\n\"Open Examples\" button below.\n\u001b[0;31m---------------------------------------------------------------------------\u001b[0m\n"
          ]
        }
      ]
    },
    {
      "cell_type": "code",
      "metadata": {
        "id": "KKcy-beqTrVg",
        "colab_type": "code",
        "colab": {}
      },
      "source": [
        ""
      ],
      "execution_count": null,
      "outputs": []
    }
  ]
}